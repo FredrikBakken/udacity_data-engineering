{
 "cells": [
  {
   "cell_type": "code",
   "execution_count": 1,
   "metadata": {},
   "outputs": [
    {
     "name": "stdout",
     "output_type": "stream",
     "text": [
      "Collecting psycopg2-binary\n",
      "  Downloading psycopg2_binary-2.8.5-cp37-cp37m-manylinux1_x86_64.whl (2.9 MB)\n",
      "\u001b[K     |████████████████████████████████| 2.9 MB 3.9 MB/s eta 0:00:01\n",
      "\u001b[?25hInstalling collected packages: psycopg2-binary\n",
      "Successfully installed psycopg2-binary-2.8.5\n"
     ]
    }
   ],
   "source": [
    "!pip install psycopg2-binary"
   ]
  },
  {
   "cell_type": "code",
   "execution_count": 2,
   "metadata": {},
   "outputs": [],
   "source": [
    "import psycopg2"
   ]
  },
  {
   "cell_type": "code",
   "execution_count": 3,
   "metadata": {},
   "outputs": [],
   "source": [
    "connection = psycopg2.connect(\n",
    "    database = \"capstone_project\",\n",
    "    user = \"udacity\",\n",
    "    password = \"udacity\",\n",
    "    host = \"172.28.1.2\",\n",
    "    port = \"5432\"\n",
    ")\n",
    "\n",
    "cursor = connection.cursor()\n",
    "\n",
    "cursor.execute(\"DROP TABLE IF EXISTS packets;\")\n",
    "connection.commit()\n",
    "\n",
    "cursor.execute(\"DROP TABLE IF EXISTS originate_packets;\")\n",
    "connection.commit()\n",
    "\n",
    "cursor.execute(\"DROP TABLE IF EXISTS response_packets;\")\n",
    "connection.commit()\n",
    "\n",
    "cursor.execute(\"DROP TABLE IF EXISTS city_blocks;\")\n",
    "connection.commit()\n",
    "\n",
    "cursor.execute(\"DROP TABLE IF EXISTS asn;\")\n",
    "connection.commit()\n",
    "\n",
    "cursor.execute(\"DROP TABLE IF EXISTS city_locations;\")\n",
    "connection.commit()\n",
    "\n",
    "connection.close()\n",
    "cursor.close()"
   ]
  },
  {
   "cell_type": "code",
   "execution_count": 3,
   "metadata": {},
   "outputs": [],
   "source": [
    "connection = psycopg2.connect(\n",
    "    database = \"capstone_project\",\n",
    "    user = \"udacity\",\n",
    "    password = \"udacity\",\n",
    "    host = \"172.28.1.2\",\n",
    "    port = \"5432\"\n",
    ")\n",
    "\n",
    "cursor = connection.cursor()"
   ]
  },
  {
   "cell_type": "code",
   "execution_count": 5,
   "metadata": {},
   "outputs": [],
   "source": [
    "create_asn = (\"\"\"\n",
    "    CREATE TABLE IF NOT EXISTS testing (\n",
    "        uid                             VARCHAR NOT NULL,\n",
    "        host                            VARCHAR,\n",
    "        port                            INTEGER,\n",
    "        bytes                           VARCHAR,\n",
    "        local                           VARCHAR,\n",
    "        packets                         INTEGER,\n",
    "        ip_bytes                        INTEGER,\n",
    "        insert_date                     DATE NOT NULL,\n",
    "        PRIMARY KEY (uid, insert_date)\n",
    "    ) PARTITION BY RANGE (insert_date);\n",
    "\"\"\")\n",
    "\n",
    "cursor.execute(create_asn)\n",
    "connection.commit()"
   ]
  },
  {
   "cell_type": "code",
   "execution_count": 6,
   "metadata": {},
   "outputs": [
    {
     "ename": "CheckViolation",
     "evalue": "no partition of relation \"testing\" found for row\nDETAIL:  Partition key of the failing row contains (insert_date) = (2018-09-01).\n",
     "output_type": "error",
     "traceback": [
      "\u001b[0;31m---------------------------------------------------------------------------\u001b[0m",
      "\u001b[0;31mCheckViolation\u001b[0m                            Traceback (most recent call last)",
      "\u001b[0;32m<ipython-input-6-b78b315b438a>\u001b[0m in \u001b[0;36m<module>\u001b[0;34m\u001b[0m\n\u001b[1;32m     10\u001b[0m         \u001b[0minsert_date\u001b[0m\u001b[0;34m\u001b[0m\u001b[0;34m\u001b[0m\u001b[0m\n\u001b[1;32m     11\u001b[0m     ) VALUES (%s, %s, %s, %s, %s, %s, %s, %s)\n\u001b[0;32m---> 12\u001b[0;31m \"\"\", (\"223.255.254.0\", \"55415\", 55415, \"55415\", \"MARINA BAY SANDS PTE LTD\", 55415, 55415, '2018-09-01'))\n\u001b[0m",
      "\u001b[0;31mCheckViolation\u001b[0m: no partition of relation \"testing\" found for row\nDETAIL:  Partition key of the failing row contains (insert_date) = (2018-09-01).\n"
     ]
    }
   ],
   "source": [
    "cursor.execute(\"\"\"\n",
    "    INSERT INTO testing (\n",
    "        uid,\n",
    "        host,\n",
    "        port,\n",
    "        bytes,\n",
    "        local,\n",
    "        packets,\n",
    "        ip_bytes,\n",
    "        insert_date\n",
    "    ) VALUES (%s, %s, %s, %s, %s, %s, %s, %s)\n",
    "\"\"\", (\"223.255.254.0\", \"55415\", 55415, \"55415\", \"MARINA BAY SANDS PTE LTD\", 55415, 55415, '2018-09-01'))"
   ]
  },
  {
   "cell_type": "code",
   "execution_count": 13,
   "metadata": {},
   "outputs": [
    {
     "name": "stdout",
     "output_type": "stream",
     "text": [
      "[]\n"
     ]
    }
   ],
   "source": [
    "cursor.execute(\"\"\"SELECT * FROM information_schema.columns WHERE table_schema = 'capstone_project' AND table_name = 'packets';\"\"\")\n",
    "\n",
    "a = cursor.fetchall()\n",
    "\n",
    "print(a)"
   ]
  },
  {
   "cell_type": "code",
   "execution_count": 23,
   "metadata": {},
   "outputs": [
    {
     "name": "stdout",
     "output_type": "stream",
     "text": [
      "[]\n"
     ]
    }
   ],
   "source": [
    "# SELECT count(*) FROM originate_packets WHERE insert_date = '2018-05-09';\n",
    "cursor.execute(\"\"\"SELECT * FROM packets WHERE insert_date = '2018-05-09' LIMIT 5;\"\"\")\n",
    "\n",
    "b = cursor.fetchall()\n",
    "\n",
    "print(b)"
   ]
  },
  {
   "cell_type": "code",
   "execution_count": 7,
   "metadata": {},
   "outputs": [],
   "source": [
    "connection.close()\n",
    "cursor.close()"
   ]
  },
  {
   "cell_type": "code",
   "execution_count": 10,
   "metadata": {},
   "outputs": [
    {
     "name": "stdout",
     "output_type": "stream",
     "text": [
      "[(436882,)]\n",
      "[(3122209,)]\n",
      "[(118481,)]\n"
     ]
    }
   ],
   "source": [
    "cursor.execute(\"\"\"SELECT count(*) FROM asn;\"\"\")\n",
    "asn = cursor.fetchall()\n",
    "\n",
    "cursor.execute(\"\"\"SELECT count(*) FROM city_blocks;\"\"\")\n",
    "city_blocks = cursor.fetchall()\n",
    "\n",
    "cursor.execute(\"\"\"SELECT count(*) FROM city_locations;\"\"\")\n",
    "city_locations = cursor.fetchall()\n",
    "\n",
    "print(asn)\n",
    "print(city_blocks)\n",
    "print(city_locations)"
   ]
  },
  {
   "cell_type": "code",
   "execution_count": 35,
   "metadata": {},
   "outputs": [],
   "source": [
    "connection = psycopg2.connect(\n",
    "    database = \"capstone_project\",\n",
    "    user = \"udacity\",\n",
    "    password = \"udacity\",\n",
    "    host = \"172.28.1.2\",\n",
    "    port = \"5432\"\n",
    ")\n",
    "\n",
    "cursor = connection.cursor()\n",
    "\n",
    "cursor.execute(\"DROP TABLE IF EXISTS packets;\")\n",
    "connection.commit()\n",
    "\n",
    "cursor.execute(\"DROP TABLE IF EXISTS city_blocks;\")\n",
    "connection.commit()\n",
    "\n",
    "cursor.execute(\"DROP TABLE IF EXISTS asn;\")\n",
    "connection.commit()\n",
    "\n",
    "cursor.execute(\"DROP TABLE IF EXISTS city_locations;\")\n",
    "connection.commit()\n",
    "\n",
    "create_city_locations = (\"\"\"\n",
    "    CREATE TABLE IF NOT EXISTS city_locations (\n",
    "        geoname_id                      INTEGER NOT NULL UNIQUE,\n",
    "        locale_code                     VARCHAR,\n",
    "        continent_code                  VARCHAR,\n",
    "        continent_name                  VARCHAR,\n",
    "        country_iso_code                VARCHAR,\n",
    "        country_name                    VARCHAR,\n",
    "        subdivision_1_iso_code          VARCHAR,\n",
    "        subdivision_1_name              VARCHAR,\n",
    "        subdivision_2_iso_code          VARCHAR,\n",
    "        subdivision_2_name              VARCHAR,\n",
    "        city_name                       VARCHAR,\n",
    "        metro_code                      VARCHAR,\n",
    "        time_zone                       VARCHAR,\n",
    "        is_in_european_union            INTEGER,\n",
    "        PRIMARY KEY (geoname_id)\n",
    "    )\n",
    "\"\"\")\n",
    "\n",
    "cursor.execute(create_city_locations)\n",
    "connection.commit()\n",
    "\n",
    "create_asn = (\"\"\"\n",
    "    CREATE TABLE IF NOT EXISTS asn (\n",
    "        network_id                      VARCHAR NOT NULL UNIQUE,\n",
    "        network                         VARCHAR,\n",
    "        autonomous_system_number        INTEGER,\n",
    "        autonomous_system_organization  VARCHAR,\n",
    "        PRIMARY KEY (network_id)\n",
    "    )\n",
    "\"\"\")\n",
    "\n",
    "cursor.execute(create_asn)\n",
    "connection.commit()\n",
    "\n",
    "create_city_blocks = (\"\"\"\n",
    "    CREATE TABLE IF NOT EXISTS city_blocks (\n",
    "        network_id                      VARCHAR NOT NULL UNIQUE,\n",
    "        network                         VARCHAR,\n",
    "        geoname_id                      INTEGER,\n",
    "        registered_country_geoname_id   INTEGER,\n",
    "        represented_country_geoname_id  INTEGER,\n",
    "        is_anonymous_proxy              INTEGER,\n",
    "        is_satellite_provider           INTEGER,\n",
    "        postal_code                     VARCHAR,\n",
    "        latitude                        FLOAT,\n",
    "        longitude                       FLOAT,\n",
    "        accuracy_radius                 INTEGER,\n",
    "        PRIMARY KEY (network_id, geoname_id, registered_country_geoname_id, represented_country_geoname_id),\n",
    "        FOREIGN KEY (geoname_id) REFERENCES city_locations (geoname_id),\n",
    "        FOREIGN KEY (registered_country_geoname_id) REFERENCES city_locations (geoname_id),\n",
    "        FOREIGN KEY (represented_country_geoname_id) REFERENCES city_locations (geoname_id)\n",
    "    )\n",
    "\"\"\")\n",
    "\n",
    "cursor.execute(create_city_blocks)\n",
    "connection.commit()\n",
    "\n",
    "create_packets = (\"\"\"\n",
    "    CREATE TABLE IF NOT EXISTS packets (\n",
    "        timestamp VARCHAR,\n",
    "        uid VARCHAR,\n",
    "        originate_network_id VARCHAR,\n",
    "        response_network_id VARCHAR,\n",
    "        protocol VARCHAR,\n",
    "        service VARCHAR,\n",
    "        duration VARCHAR,\n",
    "        connection_state VARCHAR,\n",
    "        local_originate VARCHAR,\n",
    "        local_response VARCHAR,\n",
    "        missed_bytes VARCHAR,\n",
    "        history VARCHAR,\n",
    "        tunnel_parents VARCHAR,\n",
    "        label VARCHAR,\n",
    "        detailed_label VARCHAR,\n",
    "        insert_date DATE,\n",
    "        PRIMARY KEY (uid, originate_network_id, response_network_id, insert_date),\n",
    "        FOREIGN KEY (originate_network_id) REFERENCES city_blocks (network_id),\n",
    "        FOREIGN KEY (response_network_id) REFERENCES city_blocks (network_id),\n",
    "        FOREIGN KEY (originate_network_id) REFERENCES asn (network_id),\n",
    "        FOREIGN KEY (response_network_id) REFERENCES asn (network_id)\n",
    "    ) PARTITION BY RANGE (insert_date);\n",
    "\"\"\")\n",
    "\n",
    "cursor.execute(create_packets)\n",
    "connection.commit()\n",
    "\n",
    "connection.close()\n",
    "cursor.close()"
   ]
  },
  {
   "cell_type": "code",
   "execution_count": null,
   "metadata": {},
   "outputs": [],
   "source": []
  },
  {
   "cell_type": "code",
   "execution_count": 3,
   "metadata": {},
   "outputs": [],
   "source": [
    "connection = psycopg2.connect(\n",
    "    database = \"capstone_project\",\n",
    "    user = \"udacity\",\n",
    "    password = \"udacity\",\n",
    "    host = \"172.28.1.2\",\n",
    "    port = \"5432\"\n",
    ")\n",
    "\n",
    "cursor = connection.cursor()\n",
    "\n",
    "cursor.execute(\"DROP TABLE IF EXISTS packets;\")\n",
    "connection.commit()\n",
    "\n",
    "cursor.execute(\"DROP TABLE IF EXISTS originate_packets;\")\n",
    "connection.commit()\n",
    "\n",
    "cursor.execute(\"DROP TABLE IF EXISTS response_packets;\")\n",
    "connection.commit()\n",
    "\n",
    "cursor.execute(\"DROP TABLE IF EXISTS city_blocks;\")\n",
    "connection.commit()\n",
    "\n",
    "cursor.execute(\"DROP TABLE IF EXISTS asn;\")\n",
    "connection.commit()\n",
    "\n",
    "cursor.execute(\"DROP TABLE IF EXISTS city_locations;\")\n",
    "connection.commit()"
   ]
  },
  {
   "cell_type": "code",
   "execution_count": 29,
   "metadata": {},
   "outputs": [],
   "source": [
    "create_asn = (\"\"\"\n",
    "    CREATE TABLE IF NOT EXISTS asn (\n",
    "        network_id                      VARCHAR NOT NULL,\n",
    "        network                         VARCHAR,\n",
    "        autonomous_system_number        INTEGER,\n",
    "        autonomous_system_organization  VARCHAR,\n",
    "        PRIMARY KEY (network_id)\n",
    "    )\n",
    "\"\"\")\n",
    "\n",
    "cursor.execute(create_asn)\n",
    "connection.commit()"
   ]
  },
  {
   "cell_type": "code",
   "execution_count": 30,
   "metadata": {},
   "outputs": [],
   "source": [
    "create_city_locations = (\"\"\"\n",
    "    CREATE TABLE IF NOT EXISTS city_locations (\n",
    "        geoname_id                      INTEGER NOT NULL,\n",
    "        locale_code                     VARCHAR,\n",
    "        continent_code                  VARCHAR,\n",
    "        continent_name                  VARCHAR,\n",
    "        country_iso_code                VARCHAR,\n",
    "        country_name                    VARCHAR,\n",
    "        subdivision_1_iso_code          VARCHAR,\n",
    "        subdivision_1_name              VARCHAR,\n",
    "        subdivision_2_iso_code          VARCHAR,\n",
    "        subdivision_2_name              VARCHAR,\n",
    "        city_name                       VARCHAR,\n",
    "        metro_code                      VARCHAR,\n",
    "        time_zone                       VARCHAR,\n",
    "        is_in_european_union            INTEGER,\n",
    "        PRIMARY KEY (geoname_id)\n",
    "    )\n",
    "\"\"\")\n",
    "\n",
    "cursor.execute(create_city_locations)\n",
    "connection.commit()"
   ]
  },
  {
   "cell_type": "code",
   "execution_count": 31,
   "metadata": {},
   "outputs": [],
   "source": [
    "create_city_blocks = (\"\"\"\n",
    "    CREATE TABLE IF NOT EXISTS city_blocks (\n",
    "        network_id                      VARCHAR NOT NULL UNIQUE,\n",
    "        network                         VARCHAR,\n",
    "        geoname_id                      INTEGER,\n",
    "        registered_country_geoname_id   INTEGER,\n",
    "        represented_country_geoname_id  INTEGER,\n",
    "        is_anonymous_proxy              INTEGER,\n",
    "        is_satellite_provider           INTEGER,\n",
    "        postal_code                     VARCHAR,\n",
    "        latitude                        FLOAT,\n",
    "        longitude                       FLOAT,\n",
    "        accuracy_radius                 INTEGER,\n",
    "        PRIMARY KEY (network_id, geoname_id, registered_country_geoname_id, represented_country_geoname_id),\n",
    "        FOREIGN KEY (geoname_id) REFERENCES city_locations (geoname_id),\n",
    "        FOREIGN KEY (registered_country_geoname_id) REFERENCES city_locations (geoname_id),\n",
    "        FOREIGN KEY (represented_country_geoname_id) REFERENCES city_locations (geoname_id)\n",
    "    )\n",
    "\"\"\")\n",
    "\n",
    "cursor.execute(create_city_blocks)\n",
    "connection.commit()"
   ]
  },
  {
   "cell_type": "code",
   "execution_count": 32,
   "metadata": {},
   "outputs": [],
   "source": [
    "create_originate_packets = (\"\"\"\n",
    "    CREATE TABLE IF NOT EXISTS originate_packets (\n",
    "        uid         VARCHAR NOT NULL,\n",
    "        host        VARCHAR,\n",
    "        port        VARCHAR,\n",
    "        bytes       VARCHAR,\n",
    "        packets     VARCHAR,\n",
    "        ip_bytes    VARCHAR,\n",
    "        PRIMARY KEY (uid)\n",
    "    )\n",
    "\"\"\")\n",
    "\n",
    "cursor.execute(create_originate_packets)\n",
    "connection.commit()"
   ]
  },
  {
   "cell_type": "code",
   "execution_count": 33,
   "metadata": {},
   "outputs": [],
   "source": [
    "create_response_packets = (\"\"\"\n",
    "    CREATE TABLE IF NOT EXISTS response_packets (\n",
    "        uid         VARCHAR NOT NULL,\n",
    "        host        VARCHAR,\n",
    "        port        VARCHAR,\n",
    "        bytes       VARCHAR,\n",
    "        packets     VARCHAR,\n",
    "        ip_bytes    VARCHAR,\n",
    "        PRIMARY KEY (uid)\n",
    "    )\n",
    "\"\"\")\n",
    "\n",
    "cursor.execute(create_response_packets)\n",
    "connection.commit()"
   ]
  },
  {
   "cell_type": "code",
   "execution_count": 34,
   "metadata": {},
   "outputs": [],
   "source": [
    "create_packets = (\"\"\"\n",
    "    CREATE TABLE IF NOT EXISTS packets (\n",
    "        timestamp VARCHAR,\n",
    "        uid VARCHAR NOT NULL,\n",
    "        originate_network_id VARCHAR NOT NULL,\n",
    "        response_network_id VARCHAR NOT NULL,\n",
    "        protocol VARCHAR,\n",
    "        service VARCHAR,\n",
    "        duration VARCHAR,\n",
    "        connection_state VARCHAR,\n",
    "        local_originate VARCHAR,\n",
    "        local_response VARCHAR,\n",
    "        missed_bytes VARCHAR,\n",
    "        history VARCHAR,\n",
    "        tunnel_parents VARCHAR,\n",
    "        label VARCHAR,\n",
    "        detailed_label VARCHAR,\n",
    "        insert_date DATE NOT NULL,\n",
    "        PRIMARY KEY (uid, originate_network_id, response_network_id, insert_date),\n",
    "        FOREIGN KEY (originate_network_id) REFERENCES city_blocks (network_id),\n",
    "        FOREIGN KEY (response_network_id) REFERENCES city_blocks (network_id),\n",
    "        FOREIGN KEY (originate_network_id) REFERENCES asn (network_id),\n",
    "        FOREIGN KEY (response_network_id) REFERENCES asn (network_id),\n",
    "        FOREIGN KEY (uid) REFERENCES originate_packets (uid),\n",
    "        FOREIGN KEY (uid) REFERENCES response_packets (uid)\n",
    "    ) PARTITION BY RANGE (insert_date);\n",
    "\"\"\")\n",
    "\n",
    "cursor.execute(create_packets)\n",
    "connection.commit()"
   ]
  },
  {
   "cell_type": "code",
   "execution_count": 4,
   "metadata": {},
   "outputs": [],
   "source": [
    "connection.close()\n",
    "cursor.close()"
   ]
  },
  {
   "cell_type": "code",
   "execution_count": null,
   "metadata": {},
   "outputs": [],
   "source": []
  }
 ],
 "metadata": {
  "kernelspec": {
   "display_name": "Python 3",
   "language": "python",
   "name": "python3"
  },
  "language_info": {
   "codemirror_mode": {
    "name": "ipython",
    "version": 3
   },
   "file_extension": ".py",
   "mimetype": "text/x-python",
   "name": "python",
   "nbconvert_exporter": "python",
   "pygments_lexer": "ipython3",
   "version": "3.7.6"
  }
 },
 "nbformat": 4,
 "nbformat_minor": 4
}
