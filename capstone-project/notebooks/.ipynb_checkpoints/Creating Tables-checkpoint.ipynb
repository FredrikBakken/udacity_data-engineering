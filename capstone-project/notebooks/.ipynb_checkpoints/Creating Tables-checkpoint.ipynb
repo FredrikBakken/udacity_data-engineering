{
 "cells": [
  {
   "cell_type": "code",
   "execution_count": 1,
   "metadata": {},
   "outputs": [
    {
     "name": "stdout",
     "output_type": "stream",
     "text": [
      "Requirement already satisfied: psycopg2-binary in /opt/conda/lib/python3.7/site-packages (2.8.5)\r\n"
     ]
    }
   ],
   "source": [
    "!pip install psycopg2-binary"
   ]
  },
  {
   "cell_type": "code",
   "execution_count": 2,
   "metadata": {},
   "outputs": [],
   "source": [
    "import psycopg2"
   ]
  },
  {
   "cell_type": "code",
   "execution_count": 3,
   "metadata": {},
   "outputs": [],
   "source": [
    "connection = psycopg2.connect(\n",
    "    database = \"capstone_project\",\n",
    "    user = \"udacity\",\n",
    "    password = \"udacity\",\n",
    "    host = \"172.28.1.2\",\n",
    "    port = \"5432\"\n",
    ")\n",
    "\n",
    "cursor = connection.cursor()"
   ]
  },
  {
   "cell_type": "code",
   "execution_count": 4,
   "metadata": {},
   "outputs": [],
   "source": [
    "create_asn = (\"\"\"\n",
    "    CREATE TABLE IF NOT EXISTS asn(\n",
    "        network                         VARCHAR,\n",
    "        autonomous_system_number        INTEGER,\n",
    "        autonomous_system_organization  VARCHAR\n",
    "    );\n",
    "\"\"\")\n",
    "\n",
    "cursor.execute(create_asn)\n",
    "connection.commit()"
   ]
  },
  {
   "cell_type": "code",
   "execution_count": 5,
   "metadata": {},
   "outputs": [],
   "source": [
    "cursor.execute('INSERT INTO asn (network, autonomous_system_number, autonomous_system_organization) VALUES (%s, %s, %s)', (\"223.255.254.0\", 55415, \"MARINA BAY SANDS PTE LTD\"))"
   ]
  },
  {
   "cell_type": "code",
   "execution_count": 6,
   "metadata": {},
   "outputs": [
    {
     "name": "stdout",
     "output_type": "stream",
     "text": [
      "[(1,)]\n"
     ]
    }
   ],
   "source": [
    "cursor.execute(\"\"\"SELECT count(*) FROM asn;\"\"\")\n",
    "\n",
    "a = cursor.fetchall()\n",
    "\n",
    "print(a)"
   ]
  },
  {
   "cell_type": "code",
   "execution_count": 7,
   "metadata": {},
   "outputs": [
    {
     "name": "stdout",
     "output_type": "stream",
     "text": [
      "[('223.255.254.0', 55415, 'MARINA BAY SANDS PTE LTD')]\n"
     ]
    }
   ],
   "source": [
    "cursor.execute(\"\"\"SELECT * FROM asn;\"\"\")\n",
    "\n",
    "b = cursor.fetchall()\n",
    "\n",
    "print(b)"
   ]
  },
  {
   "cell_type": "code",
   "execution_count": null,
   "metadata": {},
   "outputs": [],
   "source": []
  }
 ],
 "metadata": {
  "kernelspec": {
   "display_name": "Python 3",
   "language": "python",
   "name": "python3"
  },
  "language_info": {
   "codemirror_mode": {
    "name": "ipython",
    "version": 3
   },
   "file_extension": ".py",
   "mimetype": "text/x-python",
   "name": "python",
   "nbconvert_exporter": "python",
   "pygments_lexer": "ipython3",
   "version": "3.7.6"
  }
 },
 "nbformat": 4,
 "nbformat_minor": 4
}
