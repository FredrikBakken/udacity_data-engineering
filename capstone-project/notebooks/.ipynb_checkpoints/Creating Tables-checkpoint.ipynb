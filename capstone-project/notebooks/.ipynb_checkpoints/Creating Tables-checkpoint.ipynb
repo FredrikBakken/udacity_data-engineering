{
 "cells": [
  {
   "cell_type": "code",
   "execution_count": 1,
   "metadata": {},
   "outputs": [
    {
     "name": "stdout",
     "output_type": "stream",
     "text": [
      "Collecting psycopg2-binary\n",
      "  Downloading psycopg2_binary-2.8.5-cp37-cp37m-manylinux1_x86_64.whl (2.9 MB)\n",
      "\u001b[K     |████████████████████████████████| 2.9 MB 3.8 MB/s eta 0:00:01\n",
      "\u001b[?25hInstalling collected packages: psycopg2-binary\n",
      "Successfully installed psycopg2-binary-2.8.5\n"
     ]
    }
   ],
   "source": [
    "!pip install psycopg2-binary"
   ]
  },
  {
   "cell_type": "code",
   "execution_count": 2,
   "metadata": {},
   "outputs": [],
   "source": [
    "import psycopg2"
   ]
  },
  {
   "cell_type": "code",
   "execution_count": 3,
   "metadata": {},
   "outputs": [],
   "source": [
    "connection = psycopg2.connect(\n",
    "    database = \"capstone_project\",\n",
    "    user = \"udacity\",\n",
    "    password = \"udacity\",\n",
    "    host = \"172.28.1.2\",\n",
    "    port = \"5432\"\n",
    ")\n",
    "\n",
    "cursor = connection.cursor()\n",
    "\n",
    "cursor.execute(\"DROP TABLE IF EXISTS packets;\")\n",
    "connection.commit()\n",
    "\n",
    "cursor.execute(\"DROP TABLE IF EXISTS originate_packets;\")\n",
    "connection.commit()\n",
    "\n",
    "cursor.execute(\"DROP TABLE IF EXISTS response_packets;\")\n",
    "connection.commit()\n",
    "\n",
    "cursor.execute(\"DROP TABLE IF EXISTS city_blocks;\")\n",
    "connection.commit()\n",
    "\n",
    "cursor.execute(\"DROP TABLE IF EXISTS asn;\")\n",
    "connection.commit()\n",
    "\n",
    "cursor.execute(\"DROP TABLE IF EXISTS city_locations;\")\n",
    "connection.commit()\n",
    "\n",
    "connection.close()\n",
    "cursor.close()"
   ]
  },
  {
   "cell_type": "code",
   "execution_count": 9,
   "metadata": {},
   "outputs": [
    {
     "name": "stdout",
     "output_type": "stream",
     "text": [
      "[('1525879831', 'CUmrqr4svHuSXJy5z7', '192.168.100', '65.127.233', 'tcp', '-', '2.999051', 'S0', 0, 'S', '(empty)', 'Malicious', 'PartOfAHorizontalPortScan', datetime.date(2018, 5, 9), 'CUmrqr4svHuSXJy5z7', '192.168.100.103', 51524, '0', '-', 3, 180, datetime.date(2018, 5, 9)), ('1525879831', 'CH98aB3s1kJeq6SFOc', '192.168.100', '63.150.16', 'tcp', '-', '-', 'S0', 0, 'S', '(empty)', 'Malicious', 'PartOfAHorizontalPortScan', datetime.date(2018, 5, 9), 'CH98aB3s1kJeq6SFOc', '192.168.100.103', 56305, '-', '-', 1, 60, datetime.date(2018, 5, 9)), ('1525879831', 'C3GBTkINvXNjVGtN5', '192.168.100', '111.40.23', 'tcp', '-', '-', 'S0', 0, 'S', '(empty)', 'Malicious', 'PartOfAHorizontalPortScan', datetime.date(2018, 5, 9), 'C3GBTkINvXNjVGtN5', '192.168.100.103', 41101, '-', '-', 1, 60, datetime.date(2018, 5, 9)), ('1525879832', 'CDe43c1PtgynajGI6', '192.168.100', '131.174.215', 'tcp', '-', '2.998796', 'S0', 0, 'S', '(empty)', 'Malicious', 'PartOfAHorizontalPortScan', datetime.date(2018, 5, 9), 'CDe43c1PtgynajGI6', '192.168.100.103', 60905, '0', '-', 3, 180, datetime.date(2018, 5, 9)), ('1525879832', 'CJaDcG3MZzvf1YVYI4', '192.168.100', '91.42.47', 'tcp', '-', '-', 'S0', 0, 'S', '(empty)', 'Malicious', 'PartOfAHorizontalPortScan', datetime.date(2018, 5, 9), 'CJaDcG3MZzvf1YVYI4', '192.168.100.103', 44301, '-', '-', 1, 60, datetime.date(2018, 5, 9)), ('1525879832', 'CMBrup3BLXivSp4Avc', '192.168.100', '120.210.108', 'tcp', '-', '-', 'S0', 0, 'S', '(empty)', 'Malicious', 'PartOfAHorizontalPortScan', datetime.date(2018, 5, 9), 'CMBrup3BLXivSp4Avc', '192.168.100.103', 50244, '-', '-', 1, 60, datetime.date(2018, 5, 9)), ('1525879833', 'CfHl9r3XMYtDQRrHnh', '192.168.100', '147.7.65', 'tcp', '-', '2.998804', 'S0', 0, 'S', '(empty)', 'Benign', '-', datetime.date(2018, 5, 9), 'CfHl9r3XMYtDQRrHnh', '192.168.100.103', 34243, '0', '-', 3, 180, datetime.date(2018, 5, 9)), ('1525879833', 'C7USrA15nFVkniMqC5', '192.168.100', '145.164.35', 'tcp', '-', '-', 'S0', 0, 'S', '(empty)', 'Benign', '-', datetime.date(2018, 5, 9), 'C7USrA15nFVkniMqC5', '192.168.100.103', 34840, '-', '-', 1, 60, datetime.date(2018, 5, 9)), ('1525879834', 'CDtZ4so7bHKpIeCmi', '192.168.100', '177.75.151', 'tcp', '-', '-', 'S0', 0, 'S', '(empty)', 'Malicious', 'PartOfAHorizontalPortScan', datetime.date(2018, 5, 9), 'CDtZ4so7bHKpIeCmi', '192.168.100.103', 58525, '-', '-', 1, 60, datetime.date(2018, 5, 9)), ('1525879834', 'Cj9lm7amKnWiNDh9c', '192.168.100', '94.145.70', 'tcp', '-', '-', 'S0', 0, 'S', '(empty)', 'Malicious', 'PartOfAHorizontalPortScan', datetime.date(2018, 5, 9), 'Cj9lm7amKnWiNDh9c', '192.168.100.103', 43849, '-', '-', 1, 60, datetime.date(2018, 5, 9))]\n"
     ]
    }
   ],
   "source": [
    "connection = psycopg2.connect(\n",
    "    database = \"capstone_project\",\n",
    "    user = \"udacity\",\n",
    "    password = \"udacity\",\n",
    "    host = \"172.28.1.2\",\n",
    "    port = \"5432\"\n",
    ")\n",
    "\n",
    "cursor = connection.cursor()\n",
    "\n",
    "# cursor.execute(\"SELECT count(*) FROM packets;\")\n",
    "# cursor.execute(\"SELECT DISTINCT insert_date FROM packets;\")\n",
    "# cursor.execute(\"SELECT * FROM packets LIMIT 1;\")\n",
    "# cursor.execute(\"SELECT * FROM packets JOIN originate_packets ON packets.uid = originate_packets.uid LIMIT 10\")\n",
    "cursor.execute(\"SELECT * FROM packets JOIN asn ON packets.response_network_id = asn.uid LIMIT 10\")\n",
    "\n",
    "a = cursor.fetchall()\n",
    "print(a)\n",
    "\n",
    "connection.close()\n",
    "cursor.close()"
   ]
  },
  {
   "cell_type": "code",
   "execution_count": 16,
   "metadata": {},
   "outputs": [],
   "source": [
    "create_testing = (\"\"\"\n",
    "    CREATE TABLE IF NOT EXISTS testing (\n",
    "        uid                             VARCHAR NOT NULL,\n",
    "        host                            VARCHAR,\n",
    "        port                            INTEGER,\n",
    "        bytes                           VARCHAR,\n",
    "        local                           VARCHAR,\n",
    "        packets                         INTEGER,\n",
    "        ip_bytes                        INTEGER,\n",
    "        insert_date                     DATE NOT NULL,\n",
    "        PRIMARY KEY (uid, insert_date)\n",
    "    ) PARTITION BY RANGE (insert_date);\n",
    "\"\"\")\n",
    "\n",
    "cursor.execute(create_testing)\n",
    "connection.commit()"
   ]
  },
  {
   "cell_type": "code",
   "execution_count": 17,
   "metadata": {},
   "outputs": [],
   "source": [
    "create_testing_2018_09_01 = (\"\"\"\n",
    "    CREATE TABLE IF NOT EXISTS testing_2018_09_01 PARTITION OF testing FOR VALUES FROM ('2018-09-01') TO ('2018-09-02');\n",
    "\"\"\")\n",
    "\n",
    "cursor.execute(create_testing_2018_09_01)\n",
    "connection.commit()"
   ]
  },
  {
   "cell_type": "code",
   "execution_count": 19,
   "metadata": {},
   "outputs": [],
   "source": [
    "cursor.execute(\"\"\"\n",
    "    INSERT INTO testing (\n",
    "        uid,\n",
    "        host,\n",
    "        port,\n",
    "        bytes,\n",
    "        local,\n",
    "        packets,\n",
    "        ip_bytes,\n",
    "        insert_date\n",
    "    ) VALUES (%s, %s, %s, %s, %s, %s, %s, %s)\n",
    "\"\"\", (\"223.255.254.2\", \"55415\", 55415, \"55415\", \"MARINA BAY SANDS PTE LTD\", 55415, 55415, '2018-09-01'))\n",
    "connection.commit()"
   ]
  },
  {
   "cell_type": "code",
   "execution_count": 21,
   "metadata": {},
   "outputs": [
    {
     "name": "stdout",
     "output_type": "stream",
     "text": [
      "[('223.255.254.1', '55415', 55415, '55415', 'MARINA BAY SANDS PTE LTD', 55415, 55415, datetime.date(2018, 9, 1)), ('223.255.254.2', '55415', 55415, '55415', 'MARINA BAY SANDS PTE LTD', 55415, 55415, datetime.date(2018, 9, 1))]\n"
     ]
    }
   ],
   "source": [
    "cursor.execute(\"\"\"SELECT * FROM testing WHERE insert_date = '2018-09-01';\"\"\")\n",
    "\n",
    "a = cursor.fetchall()\n",
    "\n",
    "print(a)"
   ]
  },
  {
   "cell_type": "code",
   "execution_count": 23,
   "metadata": {},
   "outputs": [
    {
     "name": "stdout",
     "output_type": "stream",
     "text": [
      "[]\n"
     ]
    }
   ],
   "source": [
    "# SELECT count(*) FROM originate_packets WHERE insert_date = '2018-05-09';\n",
    "cursor.execute(\"\"\"SELECT * FROM packets WHERE insert_date = '2018-05-09' LIMIT 5;\"\"\")\n",
    "\n",
    "b = cursor.fetchall()\n",
    "\n",
    "print(b)"
   ]
  },
  {
   "cell_type": "code",
   "execution_count": 14,
   "metadata": {},
   "outputs": [],
   "source": [
    "connection.close()\n",
    "cursor.close()"
   ]
  },
  {
   "cell_type": "code",
   "execution_count": 10,
   "metadata": {},
   "outputs": [
    {
     "name": "stdout",
     "output_type": "stream",
     "text": [
      "[(436882,)]\n",
      "[(3122209,)]\n",
      "[(118481,)]\n"
     ]
    }
   ],
   "source": [
    "cursor.execute(\"\"\"SELECT count(*) FROM asn;\"\"\")\n",
    "asn = cursor.fetchall()\n",
    "\n",
    "cursor.execute(\"\"\"SELECT count(*) FROM city_blocks;\"\"\")\n",
    "city_blocks = cursor.fetchall()\n",
    "\n",
    "cursor.execute(\"\"\"SELECT count(*) FROM city_locations;\"\"\")\n",
    "city_locations = cursor.fetchall()\n",
    "\n",
    "print(asn)\n",
    "print(city_blocks)\n",
    "print(city_locations)"
   ]
  },
  {
   "cell_type": "code",
   "execution_count": 35,
   "metadata": {},
   "outputs": [],
   "source": [
    "connection = psycopg2.connect(\n",
    "    database = \"capstone_project\",\n",
    "    user = \"udacity\",\n",
    "    password = \"udacity\",\n",
    "    host = \"172.28.1.2\",\n",
    "    port = \"5432\"\n",
    ")\n",
    "\n",
    "cursor = connection.cursor()\n",
    "\n",
    "cursor.execute(\"DROP TABLE IF EXISTS packets;\")\n",
    "connection.commit()\n",
    "\n",
    "cursor.execute(\"DROP TABLE IF EXISTS city_blocks;\")\n",
    "connection.commit()\n",
    "\n",
    "cursor.execute(\"DROP TABLE IF EXISTS asn;\")\n",
    "connection.commit()\n",
    "\n",
    "cursor.execute(\"DROP TABLE IF EXISTS city_locations;\")\n",
    "connection.commit()\n",
    "\n",
    "create_city_locations = (\"\"\"\n",
    "    CREATE TABLE IF NOT EXISTS city_locations (\n",
    "        geoname_id                      INTEGER NOT NULL UNIQUE,\n",
    "        locale_code                     VARCHAR,\n",
    "        continent_code                  VARCHAR,\n",
    "        continent_name                  VARCHAR,\n",
    "        country_iso_code                VARCHAR,\n",
    "        country_name                    VARCHAR,\n",
    "        subdivision_1_iso_code          VARCHAR,\n",
    "        subdivision_1_name              VARCHAR,\n",
    "        subdivision_2_iso_code          VARCHAR,\n",
    "        subdivision_2_name              VARCHAR,\n",
    "        city_name                       VARCHAR,\n",
    "        metro_code                      VARCHAR,\n",
    "        time_zone                       VARCHAR,\n",
    "        is_in_european_union            INTEGER,\n",
    "        PRIMARY KEY (geoname_id)\n",
    "    )\n",
    "\"\"\")\n",
    "\n",
    "cursor.execute(create_city_locations)\n",
    "connection.commit()\n",
    "\n",
    "create_asn = (\"\"\"\n",
    "    CREATE TABLE IF NOT EXISTS asn (\n",
    "        network_id                      VARCHAR NOT NULL UNIQUE,\n",
    "        network                         VARCHAR,\n",
    "        autonomous_system_number        INTEGER,\n",
    "        autonomous_system_organization  VARCHAR,\n",
    "        PRIMARY KEY (network_id)\n",
    "    )\n",
    "\"\"\")\n",
    "\n",
    "cursor.execute(create_asn)\n",
    "connection.commit()\n",
    "\n",
    "create_city_blocks = (\"\"\"\n",
    "    CREATE TABLE IF NOT EXISTS city_blocks (\n",
    "        network_id                      VARCHAR NOT NULL UNIQUE,\n",
    "        network                         VARCHAR,\n",
    "        geoname_id                      INTEGER,\n",
    "        registered_country_geoname_id   INTEGER,\n",
    "        represented_country_geoname_id  INTEGER,\n",
    "        is_anonymous_proxy              INTEGER,\n",
    "        is_satellite_provider           INTEGER,\n",
    "        postal_code                     VARCHAR,\n",
    "        latitude                        FLOAT,\n",
    "        longitude                       FLOAT,\n",
    "        accuracy_radius                 INTEGER,\n",
    "        PRIMARY KEY (network_id, geoname_id, registered_country_geoname_id, represented_country_geoname_id),\n",
    "        FOREIGN KEY (geoname_id) REFERENCES city_locations (geoname_id),\n",
    "        FOREIGN KEY (registered_country_geoname_id) REFERENCES city_locations (geoname_id),\n",
    "        FOREIGN KEY (represented_country_geoname_id) REFERENCES city_locations (geoname_id)\n",
    "    )\n",
    "\"\"\")\n",
    "\n",
    "cursor.execute(create_city_blocks)\n",
    "connection.commit()\n",
    "\n",
    "create_packets = (\"\"\"\n",
    "    CREATE TABLE IF NOT EXISTS packets (\n",
    "        timestamp VARCHAR,\n",
    "        uid VARCHAR,\n",
    "        originate_network_id VARCHAR,\n",
    "        response_network_id VARCHAR,\n",
    "        protocol VARCHAR,\n",
    "        service VARCHAR,\n",
    "        duration VARCHAR,\n",
    "        connection_state VARCHAR,\n",
    "        local_originate VARCHAR,\n",
    "        local_response VARCHAR,\n",
    "        missed_bytes VARCHAR,\n",
    "        history VARCHAR,\n",
    "        tunnel_parents VARCHAR,\n",
    "        label VARCHAR,\n",
    "        detailed_label VARCHAR,\n",
    "        insert_date DATE,\n",
    "        PRIMARY KEY (uid, originate_network_id, response_network_id, insert_date),\n",
    "        FOREIGN KEY (originate_network_id) REFERENCES city_blocks (network_id),\n",
    "        FOREIGN KEY (response_network_id) REFERENCES city_blocks (network_id),\n",
    "        FOREIGN KEY (originate_network_id) REFERENCES asn (network_id),\n",
    "        FOREIGN KEY (response_network_id) REFERENCES asn (network_id)\n",
    "    ) PARTITION BY RANGE (insert_date);\n",
    "\"\"\")\n",
    "\n",
    "cursor.execute(create_packets)\n",
    "connection.commit()\n",
    "\n",
    "connection.close()\n",
    "cursor.close()"
   ]
  },
  {
   "cell_type": "code",
   "execution_count": null,
   "metadata": {},
   "outputs": [],
   "source": []
  },
  {
   "cell_type": "code",
   "execution_count": 3,
   "metadata": {},
   "outputs": [],
   "source": [
    "connection = psycopg2.connect(\n",
    "    database = \"capstone_project\",\n",
    "    user = \"udacity\",\n",
    "    password = \"udacity\",\n",
    "    host = \"172.28.1.2\",\n",
    "    port = \"5432\"\n",
    ")\n",
    "\n",
    "cursor = connection.cursor()\n",
    "\n",
    "cursor.execute(\"DROP TABLE IF EXISTS packets;\")\n",
    "connection.commit()\n",
    "\n",
    "cursor.execute(\"DROP TABLE IF EXISTS originate_packets;\")\n",
    "connection.commit()\n",
    "\n",
    "cursor.execute(\"DROP TABLE IF EXISTS response_packets;\")\n",
    "connection.commit()\n",
    "\n",
    "cursor.execute(\"DROP TABLE IF EXISTS city_blocks;\")\n",
    "connection.commit()\n",
    "\n",
    "cursor.execute(\"DROP TABLE IF EXISTS asn;\")\n",
    "connection.commit()\n",
    "\n",
    "cursor.execute(\"DROP TABLE IF EXISTS city_locations;\")\n",
    "connection.commit()"
   ]
  },
  {
   "cell_type": "code",
   "execution_count": 29,
   "metadata": {},
   "outputs": [],
   "source": [
    "create_asn = (\"\"\"\n",
    "    CREATE TABLE IF NOT EXISTS asn (\n",
    "        network_id                      VARCHAR NOT NULL,\n",
    "        network                         VARCHAR,\n",
    "        autonomous_system_number        INTEGER,\n",
    "        autonomous_system_organization  VARCHAR,\n",
    "        PRIMARY KEY (network_id)\n",
    "    )\n",
    "\"\"\")\n",
    "\n",
    "cursor.execute(create_asn)\n",
    "connection.commit()"
   ]
  },
  {
   "cell_type": "code",
   "execution_count": 30,
   "metadata": {},
   "outputs": [],
   "source": [
    "create_city_locations = (\"\"\"\n",
    "    CREATE TABLE IF NOT EXISTS city_locations (\n",
    "        geoname_id                      INTEGER NOT NULL,\n",
    "        locale_code                     VARCHAR,\n",
    "        continent_code                  VARCHAR,\n",
    "        continent_name                  VARCHAR,\n",
    "        country_iso_code                VARCHAR,\n",
    "        country_name                    VARCHAR,\n",
    "        subdivision_1_iso_code          VARCHAR,\n",
    "        subdivision_1_name              VARCHAR,\n",
    "        subdivision_2_iso_code          VARCHAR,\n",
    "        subdivision_2_name              VARCHAR,\n",
    "        city_name                       VARCHAR,\n",
    "        metro_code                      VARCHAR,\n",
    "        time_zone                       VARCHAR,\n",
    "        is_in_european_union            INTEGER,\n",
    "        PRIMARY KEY (geoname_id)\n",
    "    )\n",
    "\"\"\")\n",
    "\n",
    "cursor.execute(create_city_locations)\n",
    "connection.commit()"
   ]
  },
  {
   "cell_type": "code",
   "execution_count": 31,
   "metadata": {},
   "outputs": [],
   "source": [
    "create_city_blocks = (\"\"\"\n",
    "    CREATE TABLE IF NOT EXISTS city_blocks (\n",
    "        network_id                      VARCHAR NOT NULL UNIQUE,\n",
    "        network                         VARCHAR,\n",
    "        geoname_id                      INTEGER,\n",
    "        registered_country_geoname_id   INTEGER,\n",
    "        represented_country_geoname_id  INTEGER,\n",
    "        is_anonymous_proxy              INTEGER,\n",
    "        is_satellite_provider           INTEGER,\n",
    "        postal_code                     VARCHAR,\n",
    "        latitude                        FLOAT,\n",
    "        longitude                       FLOAT,\n",
    "        accuracy_radius                 INTEGER,\n",
    "        PRIMARY KEY (network_id, geoname_id, registered_country_geoname_id, represented_country_geoname_id),\n",
    "        FOREIGN KEY (geoname_id) REFERENCES city_locations (geoname_id),\n",
    "        FOREIGN KEY (registered_country_geoname_id) REFERENCES city_locations (geoname_id),\n",
    "        FOREIGN KEY (represented_country_geoname_id) REFERENCES city_locations (geoname_id)\n",
    "    )\n",
    "\"\"\")\n",
    "\n",
    "cursor.execute(create_city_blocks)\n",
    "connection.commit()"
   ]
  },
  {
   "cell_type": "code",
   "execution_count": 32,
   "metadata": {},
   "outputs": [],
   "source": [
    "create_originate_packets = (\"\"\"\n",
    "    CREATE TABLE IF NOT EXISTS originate_packets (\n",
    "        uid         VARCHAR NOT NULL,\n",
    "        host        VARCHAR,\n",
    "        port        VARCHAR,\n",
    "        bytes       VARCHAR,\n",
    "        packets     VARCHAR,\n",
    "        ip_bytes    VARCHAR,\n",
    "        PRIMARY KEY (uid)\n",
    "    )\n",
    "\"\"\")\n",
    "\n",
    "cursor.execute(create_originate_packets)\n",
    "connection.commit()"
   ]
  },
  {
   "cell_type": "code",
   "execution_count": 33,
   "metadata": {},
   "outputs": [],
   "source": [
    "create_response_packets = (\"\"\"\n",
    "    CREATE TABLE IF NOT EXISTS response_packets (\n",
    "        uid         VARCHAR NOT NULL,\n",
    "        host        VARCHAR,\n",
    "        port        VARCHAR,\n",
    "        bytes       VARCHAR,\n",
    "        packets     VARCHAR,\n",
    "        ip_bytes    VARCHAR,\n",
    "        PRIMARY KEY (uid)\n",
    "    )\n",
    "\"\"\")\n",
    "\n",
    "cursor.execute(create_response_packets)\n",
    "connection.commit()"
   ]
  },
  {
   "cell_type": "code",
   "execution_count": 34,
   "metadata": {},
   "outputs": [],
   "source": [
    "create_packets = (\"\"\"\n",
    "    CREATE TABLE IF NOT EXISTS packets (\n",
    "        timestamp VARCHAR,\n",
    "        uid VARCHAR NOT NULL,\n",
    "        originate_network_id VARCHAR NOT NULL,\n",
    "        response_network_id VARCHAR NOT NULL,\n",
    "        protocol VARCHAR,\n",
    "        service VARCHAR,\n",
    "        duration VARCHAR,\n",
    "        connection_state VARCHAR,\n",
    "        local_originate VARCHAR,\n",
    "        local_response VARCHAR,\n",
    "        missed_bytes VARCHAR,\n",
    "        history VARCHAR,\n",
    "        tunnel_parents VARCHAR,\n",
    "        label VARCHAR,\n",
    "        detailed_label VARCHAR,\n",
    "        insert_date DATE NOT NULL,\n",
    "        PRIMARY KEY (uid, originate_network_id, response_network_id, insert_date),\n",
    "        FOREIGN KEY (originate_network_id) REFERENCES city_blocks (network_id),\n",
    "        FOREIGN KEY (response_network_id) REFERENCES city_blocks (network_id),\n",
    "        FOREIGN KEY (originate_network_id) REFERENCES asn (network_id),\n",
    "        FOREIGN KEY (response_network_id) REFERENCES asn (network_id),\n",
    "        FOREIGN KEY (uid) REFERENCES originate_packets (uid),\n",
    "        FOREIGN KEY (uid) REFERENCES response_packets (uid)\n",
    "    ) PARTITION BY RANGE (insert_date);\n",
    "\"\"\")\n",
    "\n",
    "cursor.execute(create_packets)\n",
    "connection.commit()"
   ]
  },
  {
   "cell_type": "code",
   "execution_count": 4,
   "metadata": {},
   "outputs": [],
   "source": [
    "connection.close()\n",
    "cursor.close()"
   ]
  },
  {
   "cell_type": "code",
   "execution_count": null,
   "metadata": {},
   "outputs": [],
   "source": []
  }
 ],
 "metadata": {
  "kernelspec": {
   "display_name": "Python 3",
   "language": "python",
   "name": "python3"
  },
  "language_info": {
   "codemirror_mode": {
    "name": "ipython",
    "version": 3
   },
   "file_extension": ".py",
   "mimetype": "text/x-python",
   "name": "python",
   "nbconvert_exporter": "python",
   "pygments_lexer": "ipython3",
   "version": "3.7.6"
  }
 },
 "nbformat": 4,
 "nbformat_minor": 4
}
