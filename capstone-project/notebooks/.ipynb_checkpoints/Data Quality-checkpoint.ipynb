{
 "cells": [
  {
   "cell_type": "markdown",
   "metadata": {},
   "source": [
    "# Data Quality\n",
    "\n",
    "**This notebook is used to showcase the quality of the found in the structured database tables, after the data has been processed by the data engineering applications.**"
   ]
  },
  {
   "cell_type": "markdown",
   "metadata": {},
   "source": [
    "## Installation of Dependencies"
   ]
  },
  {
   "cell_type": "code",
   "execution_count": 1,
   "metadata": {},
   "outputs": [
    {
     "name": "stdout",
     "output_type": "stream",
     "text": [
      "Requirement already satisfied: psycopg2-binary in /opt/conda/lib/python3.7/site-packages (2.8.5)\r\n"
     ]
    }
   ],
   "source": [
    "!pip install psycopg2-binary"
   ]
  },
  {
   "cell_type": "markdown",
   "metadata": {},
   "source": [
    "## Importing Dependencies"
   ]
  },
  {
   "cell_type": "code",
   "execution_count": 2,
   "metadata": {},
   "outputs": [],
   "source": [
    "import psycopg2"
   ]
  },
  {
   "cell_type": "markdown",
   "metadata": {},
   "source": [
    "## Establish Connection to the Database"
   ]
  },
  {
   "cell_type": "code",
   "execution_count": 3,
   "metadata": {},
   "outputs": [],
   "source": [
    "connection = psycopg2.connect(\n",
    "    database = \"capstone_project\",\n",
    "    user = \"udacity\",\n",
    "    password = \"udacity\",\n",
    "    host = \"172.28.1.2\",\n",
    "    port = \"5432\"\n",
    ")\n",
    "\n",
    "cursor = connection.cursor()"
   ]
  },
  {
   "cell_type": "markdown",
   "metadata": {},
   "source": [
    "## Execute Data Quality Queries"
   ]
  },
  {
   "cell_type": "markdown",
   "metadata": {},
   "source": [
    "### Find all the Partition Tables"
   ]
  },
  {
   "cell_type": "code",
   "execution_count": 4,
   "metadata": {
    "scrolled": true
   },
   "outputs": [
    {
     "name": "stdout",
     "output_type": "stream",
     "text": [
      "Packets Partitions:\tOriginate Packets Partitions:\tResponse Packets Partitions:\n",
      "------------------------------------------------------------------------------------\n",
      "packets_2018_10_2\toriginate_packets_2018_10_2\tresponse_packets_2018_10_2\n",
      "packets_2018_10_3\toriginate_packets_2018_10_3\tresponse_packets_2018_10_3\n",
      "packets_2018_10_4\toriginate_packets_2018_10_4\tresponse_packets_2018_10_4\n",
      "packets_2018_12_20\toriginate_packets_2018_12_20\tresponse_packets_2018_12_20\n",
      "packets_2018_12_21\toriginate_packets_2018_12_21\tresponse_packets_2018_12_21\n",
      "packets_2018_12_22\toriginate_packets_2018_12_22\tresponse_packets_2018_12_22\n",
      "packets_2018_5_10\toriginate_packets_2018_5_10\tresponse_packets_2018_5_10\n",
      "packets_2018_5_11\toriginate_packets_2018_5_11\tresponse_packets_2018_5_11\n",
      "packets_2018_5_12\toriginate_packets_2018_5_12\tresponse_packets_2018_5_12\n",
      "packets_2018_5_13\toriginate_packets_2018_5_13\tresponse_packets_2018_5_13\n",
      "packets_2018_5_14\toriginate_packets_2018_5_14\tresponse_packets_2018_5_14\n",
      "packets_2018_5_19\toriginate_packets_2018_5_19\tresponse_packets_2018_5_19\n",
      "packets_2018_5_20\toriginate_packets_2018_5_20\tresponse_packets_2018_5_20\n",
      "packets_2018_5_21\toriginate_packets_2018_5_21\tresponse_packets_2018_5_21\n",
      "packets_2018_5_9\toriginate_packets_2018_5_9\tresponse_packets_2018_5_9\n",
      "packets_2018_7_20\toriginate_packets_2018_7_20\tresponse_packets_2018_7_20\n",
      "packets_2018_7_21\toriginate_packets_2018_7_21\tresponse_packets_2018_7_21\n",
      "packets_2018_7_25\toriginate_packets_2018_7_25\tresponse_packets_2018_7_25\n",
      "packets_2018_7_26\toriginate_packets_2018_7_26\tresponse_packets_2018_7_26\n",
      "packets_2018_7_31\toriginate_packets_2018_7_31\tresponse_packets_2018_7_31\n",
      "packets_2018_8_1\toriginate_packets_2018_8_1\tresponse_packets_2018_8_1\n",
      "packets_2018_9_6\toriginate_packets_2018_9_6\tresponse_packets_2018_9_6\n",
      "packets_2018_9_7\toriginate_packets_2018_9_7\tresponse_packets_2018_9_7\n",
      "packets_2019_1_10\toriginate_packets_2019_1_10\tresponse_packets_2019_1_10\n",
      "packets_2019_1_9\toriginate_packets_2019_1_9\tresponse_packets_2019_1_9\n",
      "packets_2019_2_28\toriginate_packets_2019_2_28\tresponse_packets_2019_2_28\n",
      "packets_2019_3_1\toriginate_packets_2019_3_1\tresponse_packets_2019_3_1\n",
      "packets_2019_3_8\toriginate_packets_2019_3_8\tresponse_packets_2019_3_8\n",
      "packets_2019_3_9\toriginate_packets_2019_3_9\tresponse_packets_2019_3_9\n",
      "packets_2019_9_20\toriginate_packets_2019_9_20\tresponse_packets_2019_9_20\n",
      "packets_2019_9_21\toriginate_packets_2019_9_21\tresponse_packets_2019_9_21\n"
     ]
    }
   ],
   "source": [
    "cursor.execute(\"SELECT table_name FROM information_schema.tables WHERE table_name LIKE 'packets_%' ORDER BY table_name;\")\n",
    "packets_partitions = cursor.fetchall()\n",
    "\n",
    "cursor.execute(\"SELECT table_name FROM information_schema.tables WHERE table_name LIKE 'originate_packets_%' ORDER BY table_name;\")\n",
    "originate_packets_partitions = cursor.fetchall()\n",
    "\n",
    "cursor.execute(\"SELECT table_name FROM information_schema.tables WHERE table_name LIKE 'response_packets_%' ORDER BY table_name;\")\n",
    "response_packets_partitions = cursor.fetchall()\n",
    "\n",
    "print(\"Packets Partitions:\\tOriginate Packets Partitions:\\tResponse Packets Partitions:\")\n",
    "print(\"------------------------------------------------------------------------------------\")\n",
    "for packets, originate_packets, response_packets in zip(packets_partitions, originate_packets_partitions, response_packets_partitions):\n",
    "    print(f\"{packets[0]}\\t{originate_packets[0]}\\t{response_packets[0]}\")"
   ]
  },
  {
   "cell_type": "markdown",
   "metadata": {},
   "source": [
    "### Confirm the Packet Count"
   ]
  },
  {
   "cell_type": "code",
   "execution_count": 5,
   "metadata": {},
   "outputs": [
    {
     "name": "stdout",
     "output_type": "stream",
     "text": [
      "Rows in the Packets table: 325307990\n",
      "Rows in the Originate Packets table: 325307990\n",
      "Rows in the Response Packets table: 325307990\n",
      "\n",
      "Is the total row count the same over all the packet tables? True\n"
     ]
    }
   ],
   "source": [
    "cursor.execute(\"SELECT count(*) FROM packets;\")\n",
    "packets_count = cursor.fetchone()\n",
    "print(f\"Rows in the Packets table: {packets_count[0]}\")\n",
    "\n",
    "cursor.execute(\"SELECT count(*) FROM originate_packets;\")\n",
    "originate_packets_count = cursor.fetchone()\n",
    "print(f\"Rows in the Originate Packets table: {originate_packets_count[0]}\")\n",
    "\n",
    "cursor.execute(\"SELECT count(*) FROM response_packets;\")\n",
    "response_packets_count = cursor.fetchone()\n",
    "print(f\"Rows in the Response Packets table: {response_packets_count[0]}\")\n",
    "\n",
    "print(f\"\\nIs the total row count the same over all the packet tables? {packets_count[0] == originate_packets_count[0] == response_packets_count[0]}\")"
   ]
  },
  {
   "cell_type": "markdown",
   "metadata": {},
   "source": [
    "### Perform JOIN Aggregation on the Data"
   ]
  },
  {
   "cell_type": "code",
   "execution_count": 6,
   "metadata": {},
   "outputs": [
    {
     "name": "stdout",
     "output_type": "stream",
     "text": [
      "[('1532535870', 'C8sXPJZSWuGQUhTVf', '192.168.100', '195.189.68', 'tcp', '-', '-', 'S0', 0, 'S', '(empty)', 'Malicious', 'PartOfAHorizontalPortScan', datetime.date(2018, 7, 25), 'C8sXPJZSWuGQUhTVf', '192.168.100.111', 24671, '-', '-', 1, 40, datetime.date(2018, 7, 25), 'C8sXPJZSWuGQUhTVf', '195.189.68.85', 81, '-', '-', 0, 0, datetime.date(2018, 7, 25), '195.189.68.0/23', 41007, 'Ctc Astana Ltd', '195.189.68', '195.189.68.0/23', 1526273, 1522867, None, 0, 0, None, 51.1879, 71.4357, 1000, '195.189.68', 1526273, 'en', 'AS', 'Asia', 'KZ', 'Kazakhstan', 'AST', 'Nur-Sultan', None, None, 'Nur-Sultan', None, 'Asia/Almaty', 0)]\n"
     ]
    }
   ],
   "source": [
    "cursor.execute(\"\"\"\n",
    "    SELECT * FROM packets\n",
    "    JOIN originate_packets ON packets.uid = originate_packets.uid\n",
    "    JOIN response_packets ON packets.uid = response_packets.uid\n",
    "    JOIN asn ON packets.response_network_id = asn.network_id\n",
    "    JOIN city_blocks ON packets.response_network_id = city_blocks.network_id\n",
    "    JOIN city_locations ON city_blocks.geoname_id = city_locations.geoname_id\n",
    "    LIMIT 1\n",
    "\"\"\")\n",
    "\n",
    "join_select = cursor.fetchall()\n",
    "print(join_select)"
   ]
  },
  {
   "cell_type": "markdown",
   "metadata": {},
   "source": [
    "## Close the Connection"
   ]
  },
  {
   "cell_type": "code",
   "execution_count": 7,
   "metadata": {},
   "outputs": [],
   "source": [
    "connection.close()\n",
    "cursor.close()"
   ]
  }
 ],
 "metadata": {
  "kernelspec": {
   "display_name": "Python 3",
   "language": "python",
   "name": "python3"
  },
  "language_info": {
   "codemirror_mode": {
    "name": "ipython",
    "version": 3
   },
   "file_extension": ".py",
   "mimetype": "text/x-python",
   "name": "python",
   "nbconvert_exporter": "python",
   "pygments_lexer": "ipython3",
   "version": "3.7.6"
  }
 },
 "nbformat": 4,
 "nbformat_minor": 4
}
